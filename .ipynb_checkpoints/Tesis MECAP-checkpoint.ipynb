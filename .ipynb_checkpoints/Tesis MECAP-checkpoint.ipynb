{
 "cells": [
  {
   "cell_type": "markdown",
   "metadata": {},
   "source": [
    "# Tesis de Maestría en Economía Aplicada\n",
    "\n",
    "### Desarrollo Humano, Urbanización y Desigualdad en Argentina. Un estudio de asociación entre las provincias\n",
    "\n",
    "Fecha de Presentación: 28 de Mayo de 2018."
   ]
  },
  {
   "cell_type": "code",
   "execution_count": null,
   "metadata": {},
   "outputs": [],
   "source": [
    "#Paquetes para econometria espacial.\n",
    "install.packages(\"maptools\", dependencies = TRUE)\n",
    "install.packages(\"spdep\", dependencies = TRUE)\n",
    "install.packages(\"leaflet\", dependencies = TRUE)\n",
    "install.packages(\"RColorBrewer\", dependencies = TRUE)\n",
    "\n",
    "library(spdep)\n",
    "library(maptools)"
   ]
  },
  {
   "cell_type": "code",
   "execution_count": null,
   "metadata": {},
   "outputs": [],
   "source": [
    "#Directorio al que busca la informacion.\n",
    "setwd(\"C:\\Users\\PC\\Documents\\Github\\Tesis MECAP\")\n",
    "\n",
    "\n",
    "#Se llama a los archivos.\n",
    "chi.poly <- readShapePoly('pxpciadatosok.shp')\n",
    "class(chi.poly)\n",
    "str(slot(chi.poly,\"data\"))\n",
    "plot(chi.poly)"
   ]
  },
  {
   "cell_type": "code",
   "execution_count": null,
   "metadata": {},
   "outputs": [],
   "source": [
    "#Para hacer el mapa más lindo.\n",
    "library(leaflet)\n",
    "leaflet(chi.poly) %>%\n",
    "  addPolygons(stroke = FALSE, fillOpacity = 0.5, smoothFactor = 0.5) %>%\n",
    "  addTiles() #adds a map tile, the default is OpenStreetMap\n",
    "\n",
    "#Para agregar color al mapa.\n",
    "require(RColorBrewer)"
   ]
  },
  {
   "cell_type": "code",
   "execution_count": null,
   "metadata": {},
   "outputs": [],
   "source": [
    "#Mapas para las distintas variables.\n",
    "###\n",
    "qpal<- colorQuantile(\"Blues\", chi.poly$URB)  ##Urbanizacion.\n",
    "\n",
    "leaflet(chi.poly) %>%\n",
    "  addPolygons(stroke = FALSE, fillOpacity = .8, smoothFactor = 0.2, color = ~qpal(URB)) %>%\n",
    "  addTiles()\n",
    "###\n",
    "qpal2<- colorQuantile(\"Blues\", chi.poly$IDH)  ##Indice de desarrollo humano.\n",
    "\n",
    "leaflet(chi.poly) %>%\n",
    "  addPolygons(stroke = FALSE, fillOpacity = .8, smoothFactor = 0.2, color = ~qpal2(IDH)) %>%\n",
    "  addTiles()\n",
    "###\n",
    "qpal3<- colorQuantile(\"Blues\", chi.poly$IDG)  ##Indice de desarrollo relativo al genero. \n",
    "\n",
    "leaflet(chi.poly) %>%\n",
    "  addPolygons(stroke = FALSE, fillOpacity = .8, smoothFactor = 0.2, color = ~qpal3(IDG)) %>%\n",
    "  addTiles()\n",
    "###\n",
    "qpal4<- colorQuantile(\"Blues\", chi.poly$GINI)  ##Indice de Gini. \n",
    "\n",
    "leaflet(chi.poly) %>%\n",
    "  addPolygons(stroke = FALSE, fillOpacity = .8, smoothFactor = 0.2, color = ~qpal4(GINI)) %>%\n",
    "  addTiles()\n",
    "\n",
    "?RColorBrewer  ##Para ver otras paletas"
   ]
  },
  {
   "cell_type": "code",
   "execution_count": null,
   "metadata": {},
   "outputs": [],
   "source": [
    "###\n",
    "#Econometria espacial.\n",
    "\n",
    "#Regresiones.\n",
    "\n",
    "chi.mco2<-lm(IDH~URB+GINI, data=chi.poly@data)\n",
    "summary(chi.mco2)\n",
    "\n",
    "chi.mco3<-lm(IDG~URB+GINI, data=chi.poly@data)\n",
    "summary(chi.mco3)\n",
    "\n",
    "chi.mco4<-lm(IDH~URB+GINI+IDG, data=chi.poly@data)\n",
    "summary(chi.mco4)"
   ]
  },
  {
   "cell_type": "code",
   "execution_count": null,
   "metadata": {},
   "outputs": [],
   "source": [
    "#Modelizacion de la dependencia espacial. \n",
    "\n",
    "list.queen<-poly2nb(chi.poly, queen=TRUE)  #Criterio queen.\n",
    "W<-nb2listw(list.queen, style=\"W\", zero.policy=TRUE)\n",
    "print(W, zero.policy=TRUE) \n",
    "plot(W,coordinates(chi.poly))\n",
    "\n",
    "coords<-coordinates(chi.poly)\n",
    "W_dist<-dnearneigh(coords,0,1,longlat = FALSE)"
   ]
  },
  {
   "cell_type": "code",
   "execution_count": null,
   "metadata": {},
   "outputs": [],
   "source": [
    "#Autocorrelacion espacial.\n",
    "\n",
    "moran.lm2<-lm.morantest(chi.mco2, W, alternative=\"two.sided\", zero.policy = TRUE)  ##Test de Moran.\n",
    "print(moran.lm2)\n",
    "LM2<-lm.LMtests(chi.mco2, W, test=\"all\", zero.policy = TRUE)  ##Test de multiplicadores de lagrange.\n",
    "print(LM2)\n",
    "\n",
    "moran.lm3<-lm.morantest(chi.mco3, W, alternative=\"two.sided\", zero.policy = TRUE)  ##Test de Moran.\n",
    "print(moran.lm3)\n",
    "LM3<-lm.LMtests(chi.mco3, W, test=\"all\", zero.policy = TRUE)  ##Test de multiplicadores de lagrange.\n",
    "print(LM3)"
   ]
  },
  {
   "cell_type": "code",
   "execution_count": null,
   "metadata": {},
   "outputs": [],
   "source": [
    "#Regresiones espaciales.\n",
    "sar.chi<-lagsarlm(IDH~URB+GINI, data=chi.poly@data, W, zero.policy = TRUE)  ##Modelo de autorregresión espacial.\n",
    "summary(sar.chi)\n",
    "\n",
    "sar.chi2<-lagsarlm(IDG~URB+GINI, data=chi.poly@data, W, zero.policy = TRUE)  ##Modelo de autorregresión espacial.\n",
    "summary(sar.chi2)"
   ]
  },
  {
   "cell_type": "code",
   "execution_count": null,
   "metadata": {},
   "outputs": [],
   "source": [
    "#Comparacion de residuos entre modelos.\n",
    "chi.poly@data$chi.mco2.res<-resid(chi.mco2) #Residuos MCO.\n",
    "chi.poly@data$chi.sar.res<-resid(sar.chi) #Residuos SAR.\n",
    "\n",
    "chi.poly@data$chi.mco3.res<-resid(chi.mco3) #Residuos MCO.\n",
    "chi.poly@data$chi.sar2.res<-resid(sar.chi2) #Residuos SAR.\n",
    "\n",
    "spplot(chi.poly,\"chi.mco2.res\", at=seq(min(chi.poly@data$chi.mco2.res,na.rm=TRUE),max(chi.poly@data$chi.mco2.res,na.rm=TRUE),length=12),col.regions=rev(brewer.pal(11,\"Blues\")))\n",
    "spplot(chi.poly,\"chi.sar.res\",at=seq(min(chi.poly@data$chi.sar.res,na.rm=TRUE),max(chi.poly@data$chi.sar.res,na.rm=TRUE), length=12), col.regions=rev(brewer.pal(11,\"Greens\")))\n",
    "\n",
    "spplot(chi.poly,\"chi.mco3.res\", at=seq(min(chi.poly@data$chi.mco3.res,na.rm=TRUE),max(chi.poly@data$chi.mco3.res,na.rm=TRUE),length=12),col.regions=rev(brewer.pal(11,\"Blues\")))\n",
    "spplot(chi.poly,\"chi.sar2.res\",at=seq(min(chi.poly@data$chi.sar2.res,na.rm=TRUE),max(chi.poly@data$chi.sar2.res,na.rm=TRUE), length=12), col.regions=rev(brewer.pal(11,\"Greens\")))"
   ]
  },
  {
   "cell_type": "code",
   "execution_count": null,
   "metadata": {},
   "outputs": [],
   "source": [
    "#Efectos marginales.\n",
    "impacts(sar.chi, listw=W)\n",
    "impacts(sar.chi2, listw=W)"
   ]
  },
  {
   "cell_type": "code",
   "execution_count": null,
   "metadata": {},
   "outputs": [],
   "source": [
    "#Modelo de errores espaciales.\n",
    "errorsalm.chi<-errorsarlm(IDH~URB+GINI, data=chi.poly@data, W, zero.policy = TRUE)\n",
    "summary(errorsalm.chi)\n",
    "\n",
    "errorsalm.chi2<-errorsarlm(IDG~URB+GINI, data=chi.poly@data, W, zero.policy = TRUE)\n",
    "summary(errorsalm.chi2)"
   ]
  },
  {
   "cell_type": "code",
   "execution_count": null,
   "metadata": {},
   "outputs": [],
   "source": [
    "###\n",
    "#Datos de panel.\n",
    "\n",
    "#Base de datos.\n",
    "library(readxl)\n",
    "Datosprovanio <- read_excel(\"C:/Users/PC/Desktop/Tesis MECAP/3. Calculos y bases/Analisis espacial/Datosprovanio.xlsx\")\n",
    "View(Datosprovanio)\n",
    "Datosprovanio"
   ]
  },
  {
   "cell_type": "code",
   "execution_count": null,
   "metadata": {},
   "outputs": [],
   "source": [
    "#Regresiones por MCO.\n",
    "reg1<-lm(IDH~Urb+Gini, data=Datosprovanio)\n",
    "summary(reg1)\n",
    "\n",
    "reg2<-lm(IDG~Urb+Gini, data=Datosprovanio)\n",
    "summary(reg2)"
   ]
  },
  {
   "cell_type": "code",
   "execution_count": null,
   "metadata": {},
   "outputs": [],
   "source": [
    "#Regresiones por efectos fijos.\n",
    "reg.fijos.ind = lm(IDH~Urb+Gini+factor(Provincia), data=Datosprovanio)\n",
    "summary(reg.fijos.ind)\n",
    "\n",
    "reg.fijos.ind2 = lm(IDG~Urb+Gini+factor(Provincia), data=Datosprovanio)\n",
    "summary(reg.fijos.ind2)\n",
    "\n",
    "\n",
    "reg.fijos.peri = lm(IDH~Urb+Gini+factor(Anio), data=Datosprovanio)\n",
    "summary(reg.fijos.peri)\n",
    "\n",
    "reg.fijos.peri2 = lm(IDG~Urb+Gini+factor(Anio), data=Datosprovanio)\n",
    "summary(reg.fijos.peri2)"
   ]
  },
  {
   "cell_type": "code",
   "execution_count": null,
   "metadata": {},
   "outputs": [],
   "source": [
    "#Regresiones por efectos aleatorios.\n",
    "\n",
    "install.packages(\"plm\")\n",
    "library(plm)\n",
    "\n",
    "reg.aleatorios = plm(IDH~Urb+Gini, index=c(\"Provincia\", \"Anio\"), model=\"random\", data=Datosprovanio)\n",
    "summary(reg.aleatorios)\n",
    "\n",
    "reg.aleatorios2 = plm(IDG~Urb+Gini, index=c(\"Provincia\", \"Anio\"), model=\"random\", data=Datosprovanio)\n",
    "summary(reg.aleatorios2)"
   ]
  },
  {
   "cell_type": "code",
   "execution_count": null,
   "metadata": {},
   "outputs": [],
   "source": [
    "#Prueba de Hausman.\n",
    "\n",
    "reg.fijos.within = plm(IDH~Urb+Gini, index=c(\"Provincia\", \"Anio\"), model=\"within\", data=Datosprovanio)\n",
    "summary(reg.fijos.within)\n",
    "\n",
    "reg.fijos.within2 = plm(IDG~Urb+Gini, index=c(\"Provincia\", \"Anio\"), model=\"within\", data=Datosprovanio)\n",
    "summary(reg.fijos.within2)\n",
    "\n",
    "phtest(reg.fijos.within, reg.aleatorios) \n",
    "\n",
    "phtest(reg.fijos.within2, reg.aleatorios2) "
   ]
  }
 ],
 "metadata": {
  "kernelspec": {
   "display_name": "R",
   "language": "R",
   "name": "ir"
  },
  "language_info": {
   "codemirror_mode": "r",
   "file_extension": ".r",
   "mimetype": "text/x-r-source",
   "name": "R",
   "pygments_lexer": "r",
   "version": "3.4.3"
  }
 },
 "nbformat": 4,
 "nbformat_minor": 2
}
